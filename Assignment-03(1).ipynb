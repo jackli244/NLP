{
 "cells": [
  {
   "cell_type": "markdown",
   "metadata": {},
   "source": [
    "## Assignment-03 First Step of Machine Learning: Model and Evaluation"
   ]
  },
  {
   "cell_type": "markdown",
   "metadata": {},
   "source": [
    "同学们，今天我们的学习了基本的机器学习概念，相比你已经对机器学习的这些方法有一个基本的认识了。值得说明的是，机器学习不仅仅是一系列方法，更重要的是一种思维体系，即：依据以往的、现有的数据，构建某种方法来解决未见过的问题。而且决策树，贝叶斯只是实现这个目标的一个方法，包括之后的神经网络。很有可能有一天，神经网络也会被淘汰，但是重要的是我们要理解机器学习的目标，就是尽可能的自动化解决未知的问题。"
   ]
  },
  {
   "cell_type": "markdown",
   "metadata": {},
   "source": [
    "![](https://timgsa.baidu.com/timg?image&quality=80&size=b9999_10000&sec=1571556399207&di=4a97dc15ad08dd49d3748d1edf6109b3&imgtype=0&src=http%3A%2F%2Fc.hiphotos.baidu.com%2Fzhidao%2Fwh%3D450%2C600%2Fsign%3Dae742c6aedcd7b89e93932873a146e91%2F5d6034a85edf8db1b16050c40223dd54574e74c7.jpg)"
   ]
  },
  {
   "cell_type": "markdown",
   "metadata": {},
   "source": [
    "## Part-1 Programming Review 编程回顾"
   ]
  },
  {
   "cell_type": "markdown",
   "metadata": {},
   "source": [
    "#### 1. Re-code the Linear-Regression Model using scikit-learning(10 points)"
   ]
  },
  {
   "cell_type": "markdown",
   "metadata": {},
   "source": [
    "<评阅点>： \n",
    "> + 是否完成线性回归模型 (4')\n",
    "+ 能够进行预测新数据(3')\n",
    "+ 能够进行可视化操作(3')"
   ]
  },
  {
   "cell_type": "code",
   "execution_count": 10,
   "metadata": {},
   "outputs": [
    {
     "data": {
      "text/plain": [
       "[<matplotlib.lines.Line2D at 0x3f5f4c8>]"
      ]
     },
     "execution_count": 10,
     "metadata": {},
     "output_type": "execute_result"
    },
    {
     "data": {
      "image/png": "[encoded data removed]",
      "text/plain": [
       "<Figure size 432x288 with 1 Axes>"
      ]
     },
     "metadata": {
      "needs_background": "light"
     },
     "output_type": "display_data"
    }
   ],
   "source": [
    "\n",
    "import numpy as np\n",
    "import matplotlib.pyplot as plt\n",
    "import random\n",
    "from sklearn.linear_model import LinearRegression\n",
    "\n",
    "X = np.random.random((20, 1))\n",
    "def assmuing_function(x):\n",
    "    return x * 23 / 5 + random.randint(-5, 5)\n",
    "y = [assmuing_function(x) for x in X]\n",
    "y = np.array(y)\n",
    "reg = LinearRegression().fit(X.reshape(-1, 1), y)\n",
    "def f(x): \n",
    "    return reg.coef_ * x + reg.intercept_\n",
    "plt.scatter(X, y)\n",
    "plt.plot(X, f(X), color='red')"
   ]
  },
  {
   "cell_type": "code",
   "execution_count": 11,
   "metadata": {},
   "outputs": [
    {
     "data": {
      "text/plain": [
       "array([[6.12388535]])"
      ]
     },
     "execution_count": 11,
     "metadata": {},
     "output_type": "execute_result"
    }
   ],
   "source": [
    "reg.predict([[1]])"
   ]
  },
  {
   "cell_type": "markdown",
   "metadata": {},
   "source": [
    "#### 2. Complete the unfinished KNN Model using pure python to solve the previous Line-Regression problem. (8 points)"
   ]
  },
  {
   "cell_type": "markdown",
   "metadata": {},
   "source": [
    "<评阅点>:\n",
    "> + 是否完成了KNN模型 (4')\n",
    "+ 是否能够预测新的数据 (4')"
   ]
  },
  {
   "cell_type": "code",
   "execution_count": 14,
   "metadata": {},
   "outputs": [
    {
     "data": {
      "text/plain": [
       "(array([[0.48904965],\n",
       "        [0.44910519],\n",
       "        [0.39573915],\n",
       "        [0.81042486],\n",
       "        [0.88496603],\n",
       "        [0.60870971],\n",
       "        [0.9549311 ],\n",
       "        [0.69605233],\n",
       "        [0.40059163],\n",
       "        [0.11465416],\n",
       "        [0.92877477],\n",
       "        [0.59870464],\n",
       "        [0.23998494],\n",
       "        [0.229017  ],\n",
       "        [0.93682711],\n",
       "        [0.89570833],\n",
       "        [0.95171194],\n",
       "        [0.06332862],\n",
       "        [0.03807221],\n",
       "        [0.99095934]]), array([[ 4.24962837],\n",
       "        [ 6.06588388],\n",
       "        [ 2.82040007],\n",
       "        [ 8.72795434],\n",
       "        [ 9.07084372],\n",
       "        [ 5.80006467],\n",
       "        [ 6.39268307],\n",
       "        [-0.79815926],\n",
       "        [-1.15727851],\n",
       "        [ 4.52740915],\n",
       "        [ 7.27236393],\n",
       "        [ 3.75404134],\n",
       "        [ 4.10393072],\n",
       "        [ 0.05347821],\n",
       "        [ 9.3094047 ],\n",
       "        [ 2.12025832],\n",
       "        [ 1.37787493],\n",
       "        [ 5.29131165],\n",
       "        [-2.82486784],\n",
       "        [ 5.55841295]]))"
      ]
     },
     "execution_count": 14,
     "metadata": {},
     "output_type": "execute_result"
    }
   ],
   "source": [
    "def model(X, y):\n",
    "    return [(Xi, yi) for Xi, yi in zip(X, y)]\n",
    "from scipy.spatial.distance import cosine\n",
    "def distance(x1, x2):\n",
    "    return cosine(x1, x2)\n",
    "def predict(x, k=3):\n",
    "    most_similars = sorted(model(X, y), key=lambda xi: distance(xi[0], x))[:k]\n",
    "    \n",
    "    y_hats = [_y for x, _y in most_similars]\n",
    "    \n",
    "    print(most_similars)\n",
    "    \n",
    "    return np.mean(y_hats)\n",
    "X, y"
   ]
  },
  {
   "cell_type": "code",
   "execution_count": 15,
   "metadata": {},
   "outputs": [
    {
     "name": "stdout",
     "output_type": "stream",
     "text": [
      "[(array([0.48904965]), array([4.24962837])), (array([0.44910519]), array([6.06588388])), (array([0.39573915]), array([2.82040007]))]\n"
     ]
    },
    {
     "data": {
      "text/plain": [
       "4.378637440753032"
      ]
     },
     "execution_count": 15,
     "metadata": {},
     "output_type": "execute_result"
    }
   ],
   "source": [
    "myself_knn = model(X, y)\n",
    "predict(1)"
   ]
  },
  {
   "cell_type": "markdown",
   "metadata": {},
   "source": [
    "#### 3. Re-code the Decision Tree, which could sort the features by salience. (12 points)"
   ]
  },
  {
   "cell_type": "markdown",
   "metadata": {},
   "source": [
    "<评阅点>\n",
    "> + 是否实现了信息熵 (1' )\n",
    "+ 是否实现了最优先特征点的选择(5')\n",
    "+ 是否实现了持续的特征选则(6')"
   ]
  },
  {
   "cell_type": "code",
   "execution_count": 16,
   "metadata": {},
   "outputs": [
    {
     "data": {
      "text/html": [
       "<div>\n",
       "<style scoped>\n",
       "    .dataframe tbody tr th:only-of-type {\n",
       "        vertical-align: middle;\n",
       "    }\n",
       "\n",
       "    .dataframe tbody tr th {\n",
       "        vertical-align: top;\n",
       "    }\n",
       "\n",
       "    .dataframe thead th {\n",
       "        text-align: right;\n",
       "    }\n",
       "</style>\n",
       "<table border=\"1\" class=\"dataframe\">\n",
       "  <thead>\n",
       "    <tr style=\"text-align: right;\">\n",
       "      <th></th>\n",
       "      <th>gender</th>\n",
       "      <th>income</th>\n",
       "      <th>family_number</th>\n",
       "      <th>bought</th>\n",
       "    </tr>\n",
       "  </thead>\n",
       "  <tbody>\n",
       "    <tr>\n",
       "      <td>0</td>\n",
       "      <td>F</td>\n",
       "      <td>+10</td>\n",
       "      <td>1</td>\n",
       "      <td>1</td>\n",
       "    </tr>\n",
       "    <tr>\n",
       "      <td>1</td>\n",
       "      <td>F</td>\n",
       "      <td>-10</td>\n",
       "      <td>1</td>\n",
       "      <td>1</td>\n",
       "    </tr>\n",
       "    <tr>\n",
       "      <td>2</td>\n",
       "      <td>F</td>\n",
       "      <td>+10</td>\n",
       "      <td>2</td>\n",
       "      <td>1</td>\n",
       "    </tr>\n",
       "    <tr>\n",
       "      <td>3</td>\n",
       "      <td>F</td>\n",
       "      <td>+10</td>\n",
       "      <td>1</td>\n",
       "      <td>0</td>\n",
       "    </tr>\n",
       "    <tr>\n",
       "      <td>4</td>\n",
       "      <td>M</td>\n",
       "      <td>+10</td>\n",
       "      <td>1</td>\n",
       "      <td>0</td>\n",
       "    </tr>\n",
       "    <tr>\n",
       "      <td>5</td>\n",
       "      <td>M</td>\n",
       "      <td>+10</td>\n",
       "      <td>1</td>\n",
       "      <td>0</td>\n",
       "    </tr>\n",
       "    <tr>\n",
       "      <td>6</td>\n",
       "      <td>M</td>\n",
       "      <td>-10</td>\n",
       "      <td>2</td>\n",
       "      <td>1</td>\n",
       "    </tr>\n",
       "  </tbody>\n",
       "</table>\n",
       "</div>"
      ],
      "text/plain": [
       "  gender income  family_number  bought\n",
       "0      F    +10              1       1\n",
       "1      F    -10              1       1\n",
       "2      F    +10              2       1\n",
       "3      F    +10              1       0\n",
       "4      M    +10              1       0\n",
       "5      M    +10              1       0\n",
       "6      M    -10              2       1"
      ]
     },
     "execution_count": 16,
     "metadata": {},
     "output_type": "execute_result"
    }
   ],
   "source": [
    "mock_data = {\n",
    "    'gender':['F', 'F', 'F', 'F', 'M', 'M', 'M'],\n",
    "    'income': ['+10', '-10', '+10', '+10', '+10', '+10', '-10'],\n",
    "    'family_number': [1, 1, 2, 1, 1, 1, 2],\n",
    "   # 'pet': [1, 1, 1, 0, 0, 0, 1],\n",
    "    'bought': [1, 1, 1, 0, 0, 0, 1],\n",
    "}\n",
    "import pandas as pd\n",
    "dataset = pd.DataFrame.from_dict(mock_data)\n",
    "dataset"
   ]
  },
  {
   "cell_type": "code",
   "execution_count": 17,
   "metadata": {},
   "outputs": [],
   "source": [
    "def find_the_optimal_spilter(training_data: pd.DataFrame, target: str) -> str:\n",
    "    x_fields = set(training_data.columns.tolist()) - {target}\n",
    "    \n",
    "    spliter = None\n",
    "    min_entropy = float('inf')\n",
    "    \n",
    "    for f in x_fields:\n",
    "        ic(f)\n",
    "        values = set(training_data[f])\n",
    "        ic(values)\n",
    "        for v in values:\n",
    "            sub_spliter_1 = training_data[training_data[f] == v][target].tolist()\n",
    "            ic(sub_spliter_1)\n",
    "            # split by the current feature and one value\n",
    "            \n",
    "            entropy_1 = entropy(sub_spliter_1)\n",
    "            ic(entropy_1)\n",
    "            \n",
    "            sub_spliter_2 = training_data[training_data[f] != v][target].tolist()\n",
    "            ic(sub_spliter_2)\n",
    "            \n",
    "            entropy_2 = entropy(sub_spliter_2)\n",
    "            ic(entropy_2)\n",
    "            \n",
    "            entropy_v = entropy_1 + entropy_2\n",
    "            ic(entropy_v)\n",
    "            \n",
    "            if entropy_v <= min_entropy:\n",
    "                min_entropy = entropy_v\n",
    "                spliter = (f, v)\n",
    "    \n",
    "    print('spliter is: {}'.format(spliter))\n",
    "    print('the min entropy is: {}'.format(min_entropy))\n",
    "    \n",
    "    return spliter"
   ]
  },
  {
   "cell_type": "code",
   "execution_count": 18,
   "metadata": {},
   "outputs": [
    {
     "name": "stderr",
     "output_type": "stream",
     "text": [
      "ic| f: 'gender'\n",
      "ic| values: {'F', 'M'}\n",
      "ic| sub_spliter_1: [1, 1, 1, 0]\n",
      "ic| probs: [0.25, 0.75]\n",
      "ic| entropy_1: 0.5623351446188083\n",
      "ic| sub_spliter_2: [0, 0, 1]\n",
      "ic| probs: [0.6666666666666666, 0.3333333333333333]\n",
      "ic| entropy_2: 0.6365141682948128\n",
      "ic| entropy_v: 1.198849312913621\n",
      "ic| sub_spliter_1: [0, 0, 1]\n",
      "ic| probs: [0.6666666666666666, 0.3333333333333333]\n",
      "ic| entropy_1: 0.6365141682948128\n",
      "ic| sub_spliter_2: [1, 1, 1, 0]\n",
      "ic| probs: [0.25, 0.75]\n",
      "ic| entropy_2: 0.5623351446188083\n",
      "ic| entropy_v: 1.198849312913621\n",
      "ic| f: 'income'\n",
      "ic| values: {'-10', '+10'}\n",
      "ic| sub_spliter_1: [1, 1]\n",
      "ic| probs: [1.0]\n",
      "ic| entropy_1: -0.0\n",
      "ic| sub_spliter_2: [1, 1, 0, 0, 0]\n",
      "ic| probs: [0.6, 0.4]\n",
      "ic| entropy_2: 0.6730116670092565\n",
      "ic| entropy_v: 0.6730116670092565\n",
      "ic| sub_spliter_1: [1, 1, 0, 0, 0]\n",
      "ic| probs: [0.6, 0.4]\n",
      "ic| entropy_1: 0.6730116670092565\n",
      "ic| sub_spliter_2: [1, 1]\n",
      "ic| probs: [1.0]\n",
      "ic| entropy_2: -0.0\n",
      "ic| entropy_v: 0.6730116670092565\n",
      "ic| f: 'family_number'\n",
      "ic| values: {1, 2}\n",
      "ic| sub_spliter_1: [1, 1, 0, 0, 0]\n",
      "ic| probs: [0.6, 0.4]\n",
      "ic| entropy_1: 0.6730116670092565\n",
      "ic| sub_spliter_2: [1, 1]\n",
      "ic| probs: [1.0]\n",
      "ic| entropy_2: -0.0\n",
      "ic| entropy_v: 0.6730116670092565\n",
      "ic| sub_spliter_1: [1, 1]\n",
      "ic| probs: [1.0]\n",
      "ic| entropy_1: -0.0\n",
      "ic| sub_spliter_2: [1, 1, 0, 0, 0]\n",
      "ic| probs: [0.6, 0.4]\n",
      "ic| entropy_2: 0.6730116670092565\n",
      "ic| entropy_v: 0.6730116670092565\n"
     ]
    },
    {
     "name": "stdout",
     "output_type": "stream",
     "text": [
      "spliter is: ('family_number', 2)\n",
      "the min entropy is: 0.6730116670092565\n"
     ]
    },
    {
     "data": {
      "text/plain": [
       "('family_number', 2)"
      ]
     },
     "execution_count": 18,
     "metadata": {},
     "output_type": "execute_result"
    }
   ],
   "source": [
    "from icecream import ic\n",
    "from collections import Counter\n",
    "def entropy(elements):\n",
    "    '''群体的混乱程度'''\n",
    "    counter = Counter(elements)\n",
    "    probs = [counter[c] / len(elements) for c in set(elements)]\n",
    "    ic(probs)\n",
    "    return - sum(p * np.log(p) for p in probs)\n",
    "find_the_optimal_spilter(training_data=dataset, target='bought')"
   ]
  },
  {
   "cell_type": "markdown",
   "metadata": {},
   "source": [
    "#### 4. Finish the K-Means using 2-D matplotlib (8 points)"
   ]
  },
  {
   "cell_type": "markdown",
   "metadata": {},
   "source": [
    "<评阅点>\n",
    "> + 是否完成了KMeans模型，基于scikit-learning (3')\n",
    "+ 是否完成了可视化任务（5'）"
   ]
  },
  {
   "cell_type": "code",
   "execution_count": 19,
   "metadata": {},
   "outputs": [
    {
     "data": {
      "text/plain": [
       "<matplotlib.collections.PathCollection at 0xacb2f88>"
      ]
     },
     "execution_count": 19,
     "metadata": {},
     "output_type": "execute_result"
    },
    {
     "data": {
      "image/png": "[encoded data removed]",
      "text/plain": [
       "<Figure size 432x288 with 1 Axes>"
      ]
     },
     "metadata": {
      "needs_background": "light"
     },
     "output_type": "display_data"
    }
   ],
   "source": [
    "from sklearn.cluster import KMeans\n",
    "X1 = [random.randint(0, 100) for _ in range(100)]\n",
    "X2 = [random.randint(0, 100) for _ in range(100)]\n",
    "plt.scatter(X1, X2)"
   ]
  },
  {
   "cell_type": "code",
   "execution_count": 20,
   "metadata": {},
   "outputs": [
    {
     "data": {
      "text/plain": [
       "array([[66.90909091, 21.87878788],\n",
       "       [21.12903226, 66.83870968],\n",
       "       [74.63888889, 72.86111111]])"
      ]
     },
     "execution_count": 20,
     "metadata": {},
     "output_type": "execute_result"
    }
   ],
   "source": [
    "tranning_data = [[x1, x2] for x1, x2 in zip(X1, X2)]\n",
    "cluster = KMeans(n_clusters=3, max_iter=300)\n",
    "cluster.fit(tranning_data)\n",
    "cluster.cluster_centers_"
   ]
  },
  {
   "cell_type": "code",
   "execution_count": 21,
   "metadata": {},
   "outputs": [
    {
     "data": {
      "image/png": "[encoded data removed]",
      "text/plain": [
       "<Figure size 432x288 with 1 Axes>"
      ]
     },
     "metadata": {
      "needs_background": "light"
     },
     "output_type": "display_data"
    }
   ],
   "source": [
    "from collections import defaultdict\n",
    "centers = defaultdict(list)\n",
    "for label, location in zip(cluster.labels_, tranning_data):\n",
    "    centers[label].append(location)\n",
    "color = ['red', 'black', 'yellow']\n",
    "\n",
    "for i, c in enumerate(centers):\n",
    "    for location in centers[c]:\n",
    "        plt.scatter(*location, c=color[i])\n",
    "        \n",
    "for center in cluster.cluster_centers_:\n",
    "    plt.scatter(*center, s=100)"
   ]
  },
  {
   "cell_type": "markdown",
   "metadata": {},
   "source": [
    "## Part-2 Question and Answer 问答"
   ]
  },
  {
   "cell_type": "markdown",
   "metadata": {},
   "source": [
    "#### 1. What's the *model*? why  all the models are wrong, but some are useful? (5 points) "
   ]
  },
  {
   "cell_type": "markdown",
   "metadata": {},
   "source": [
    "Ans:模型就是把特征抽象化\n",
    "特征并不只是绝对的或者全面的，所以所有模型都是不对的，有些模型有用"
   ]
  },
  {
   "cell_type": "markdown",
   "metadata": {},
   "source": [
    "<评阅点>\n",
    "> + 对模型的理解是否正确,对模型的抽象性是否正确(5')"
   ]
  },
  {
   "cell_type": "markdown",
   "metadata": {},
   "source": [
    "#### 2. What's the underfitting and overfitting? List the reasons that could make model overfitting or underfitting. (10 points)"
   ]
  },
  {
   "cell_type": "markdown",
   "metadata": {},
   "source": [
    "Ans:\n",
    "underfitting：模型过于简单，没有包括足够的特征或者抽象的过于简单。这样就无法有效的学习，产生预测的模型变化小，但是结果偏差大\n",
    "overfitting：与上述相反"
   ]
  },
  {
   "cell_type": "markdown",
   "metadata": {},
   "source": [
    "<评阅点>\n",
    "> + 对过拟合和欠拟合的理解是否正确 (3')\n",
    "+ 对欠拟合产生的原因是否理解正确(2')\n",
    "+ 对过拟合产生的原因是否理解正确(5')"
   ]
  },
  {
   "cell_type": "markdown",
   "metadata": {},
   "source": [
    "#### 3. What's the precision, recall, AUC, F1, F2score. What are they mainly target on? (12')"
   ]
  },
  {
   "cell_type": "markdown",
   "metadata": {},
   "source": [
    "Ans:\n",
    "precision： 模型预测的认为是正确的 而且 确实是正确的个数 / 所有预测个数中模型认为是 正确的 总数；模型的精确度\n",
    "recall：模型预测的认为是正确的 而且 确实是正确的个数 / 所有训练个数中 实际上 是正确的个数；模型的回收率\n",
    "AUC：receiver operating characteristic curve曲线的 基准数以下部分\n",
    "F1：2∗precision∗recall/(precision+recall)；\n",
    "F2score：5∗precision∗recall/(4*precision+recall)"
   ]
  },
  {
   "cell_type": "markdown",
   "metadata": {},
   "source": [
    "<评阅点>\n",
    "> + 对precision, recall, AUC, F1, F2 理解是否正确(6‘)\n",
    "+ 对precision, recall, AUC, F1, F2的使用侧重点是否理解正确 (6’)"
   ]
  },
  {
   "cell_type": "markdown",
   "metadata": {},
   "source": [
    "#### 4. Based on our course and yourself mind, what's the machine learning?  (8')"
   ]
  },
  {
   "cell_type": "markdown",
   "metadata": {},
   "source": [
    "Ans:\n",
    "机器学习是在给定一个框架和数据，机器能够生产相关模型，并能够根据这个模型做出预测"
   ]
  },
  {
   "cell_type": "markdown",
   "metadata": {},
   "source": [
    "<评阅点> 开放式问题，是否能说出来机器学习这种思维方式和传统的分析式编程的区别（8'）"
   ]
  },
  {
   "cell_type": "markdown",
   "metadata": {},
   "source": [
    "#### 5. \"正确定义了机器学习模型的评价标准(evaluation)， 问题基本上就已经解决一半\". 这句话是否正确？你是怎么看待的？ (8‘)"
   ]
  },
  {
   "cell_type": "code",
   "execution_count": null,
   "metadata": {},
   "outputs": [],
   "source": [
    "这个是正确的，模型的评价标准是否准确，就能够确实这个模型在用于评价相关的特征方面是否实际上有效。"
   ]
  },
  {
   "cell_type": "markdown",
   "metadata": {},
   "source": [
    "<评阅点> 开放式问题，主要看能理解评价指标对机器学习模型的重要性."
   ]
  },
  {
   "cell_type": "markdown",
   "metadata": {},
   "source": [
    "## Part-03 Programming Practice 编程练习"
   ]
  },
  {
   "cell_type": "markdown",
   "metadata": {},
   "source": [
    "1. In our course and previous practice, we complete some importance components of Decision Tree. In this problem, you need to build a **completed** Decision Tree Model. You show finish a `predicate()` function, which accepts three parameters **<gender, income, family_number>**, and outputs the predicated 'bought': 1 or 0.  (20 points)"
   ]
  },
  {
   "cell_type": "code",
   "execution_count": 1,
   "metadata": {},
   "outputs": [
    {
     "data": {
      "text/html": [
       "<div>\n",
       "<style scoped>\n",
       "    .dataframe tbody tr th:only-of-type {\n",
       "        vertical-align: middle;\n",
       "    }\n",
       "\n",
       "    .dataframe tbody tr th {\n",
       "        vertical-align: top;\n",
       "    }\n",
       "\n",
       "    .dataframe thead th {\n",
       "        text-align: right;\n",
       "    }\n",
       "</style>\n",
       "<table border=\"1\" class=\"dataframe\">\n",
       "  <thead>\n",
       "    <tr style=\"text-align: right;\">\n",
       "      <th></th>\n",
       "      <th>gender</th>\n",
       "      <th>income</th>\n",
       "      <th>family_number</th>\n",
       "      <th>bought</th>\n",
       "    </tr>\n",
       "  </thead>\n",
       "  <tbody>\n",
       "    <tr>\n",
       "      <td>0</td>\n",
       "      <td>F</td>\n",
       "      <td>+10</td>\n",
       "      <td>1</td>\n",
       "      <td>1</td>\n",
       "    </tr>\n",
       "    <tr>\n",
       "      <td>1</td>\n",
       "      <td>F</td>\n",
       "      <td>-10</td>\n",
       "      <td>1</td>\n",
       "      <td>1</td>\n",
       "    </tr>\n",
       "    <tr>\n",
       "      <td>2</td>\n",
       "      <td>F</td>\n",
       "      <td>+10</td>\n",
       "      <td>2</td>\n",
       "      <td>1</td>\n",
       "    </tr>\n",
       "    <tr>\n",
       "      <td>3</td>\n",
       "      <td>F</td>\n",
       "      <td>+10</td>\n",
       "      <td>1</td>\n",
       "      <td>0</td>\n",
       "    </tr>\n",
       "    <tr>\n",
       "      <td>4</td>\n",
       "      <td>M</td>\n",
       "      <td>+10</td>\n",
       "      <td>1</td>\n",
       "      <td>0</td>\n",
       "    </tr>\n",
       "    <tr>\n",
       "      <td>5</td>\n",
       "      <td>M</td>\n",
       "      <td>+10</td>\n",
       "      <td>1</td>\n",
       "      <td>0</td>\n",
       "    </tr>\n",
       "    <tr>\n",
       "      <td>6</td>\n",
       "      <td>M</td>\n",
       "      <td>-10</td>\n",
       "      <td>2</td>\n",
       "      <td>1</td>\n",
       "    </tr>\n",
       "  </tbody>\n",
       "</table>\n",
       "</div>"
      ],
      "text/plain": [
       "  gender income  family_number  bought\n",
       "0      F    +10              1       1\n",
       "1      F    -10              1       1\n",
       "2      F    +10              2       1\n",
       "3      F    +10              1       0\n",
       "4      M    +10              1       0\n",
       "5      M    +10              1       0\n",
       "6      M    -10              2       1"
      ]
     },
     "execution_count": 1,
     "metadata": {},
     "output_type": "execute_result"
    }
   ],
   "source": [
    "mock_data = {\n",
    "    'gender':['F', 'F', 'F', 'F', 'M', 'M', 'M'],\n",
    "    'income': ['+10', '-10', '+10', '+10', '+10', '+10', '-10'],\n",
    "    'family_number': [1, 1, 2, 1, 1, 1, 2],\n",
    "   # 'pet': [1, 1, 1, 0, 0, 0, 1],\n",
    "    'bought': [1, 1, 1, 0, 0, 0, 1],\n",
    "}\n",
    "import pandas as pd\n",
    "dataset = pd.DataFrame.from_dict(mock_data)\n",
    "dataset"
   ]
  },
  {
   "cell_type": "code",
   "execution_count": 14,
   "metadata": {},
   "outputs": [
    {
     "name": "stdout",
     "output_type": "stream",
     "text": [
      "('family_number', 2)\n",
      "('gender', 'M')\n",
      "('income', '-10')\n"
     ]
    },
    {
     "data": {
      "text/plain": [
       "[('family_number', 2, 1), ('gender', 'M', 2), ('income', '-10', 3)]"
      ]
     },
     "execution_count": 14,
     "metadata": {},
     "output_type": "execute_result"
    }
   ],
   "source": [
    "import numpy as np\n",
    "from icecream import ic\n",
    "from collections import Counter\n",
    "def entropy(elements):\n",
    "    '''群体的混乱程度'''\n",
    "    counter = Counter(elements)\n",
    "    probs = [counter[c] / len(elements) for c in set(elements)]\n",
    "#     ic(probs)\n",
    "    return - sum(p * np.log(p) for p in probs)\n",
    "def find_the_optimal_spilter_all(training_data: pd.DataFrame, target: str) -> str:\n",
    "    x_fields = set(training_data.columns.tolist()) - {target}\n",
    "    \n",
    "    spliter = None\n",
    "    min_entropy = float('inf')\n",
    "    \n",
    "    for f in x_fields:\n",
    "        values = set(training_data[f])\n",
    "        for v in values:\n",
    "            sub_spliter_1 = training_data[training_data[f] == v][target].tolist()\n",
    "            # split by the current feature and one value\n",
    "            \n",
    "            entropy_1 = entropy(sub_spliter_1)\n",
    "            \n",
    "            sub_spliter_2 = training_data[training_data[f] != v][target].tolist()\n",
    "            \n",
    "            entropy_2 = entropy(sub_spliter_2)\n",
    "\n",
    "            entropy_v = entropy_1 + entropy_2\n",
    "\n",
    "            if entropy_v <= min_entropy:\n",
    "                min_entropy = entropy_v\n",
    "                spliter = (f, v)\n",
    "    return spliter\n",
    "def get_rules(dataset): \n",
    "    tree = []\n",
    "    myrange = len(set(dataset.columns.tolist()) - {'bought'})\n",
    "    for i in range(myrange):\n",
    "        if i == 0 :\n",
    "            lookup = find_the_optimal_spilter_all(training_data=dataset, target='bought')\n",
    "        else:             \n",
    "            dataset = dataset[dataset[lookup[0]] == lookup[1]]\n",
    "            del dataset[lookup[0]]\n",
    "#             print (dataset)\n",
    "            lookup = find_the_optimal_spilter_all(training_data=dataset, target='bought')\n",
    "        print (lookup)\n",
    "        tree.append(lookup + (i+1,))\n",
    "    return tree\n",
    "get_rules(dataset)"
   ]
  },
  {
   "cell_type": "code",
   "execution_count": 15,
   "metadata": {},
   "outputs": [
    {
     "name": "stdout",
     "output_type": "stream",
     "text": [
      "('family_number', 2)\n",
      "('gender', 'M')\n",
      "('income', '-10')\n"
     ]
    },
    {
     "data": {
      "text/plain": [
       "[1.0, 1.0, 1.0]"
      ]
     },
     "execution_count": 15,
     "metadata": {},
     "output_type": "execute_result"
    }
   ],
   "source": [
    "def predict(strInput,dataset):\n",
    "    rates = []\n",
    "    strInput = ('M','-10',1)\n",
    "    features = get_rules(dataset)\n",
    "    input = {}\n",
    "    for i in range(3):\n",
    "        input[('gender','income','family_number')[i]] = strInput[i]\n",
    "    for feature in features:\n",
    "        dataset = dataset[dataset[feature[0]] == feature[1]]\n",
    "        rate = list(dataset['bought']).count(1) / len(list(dataset['bought']))\n",
    "        rates.append(rate)\n",
    "    return rates\n",
    "predict('',dataset)"
   ]
  },
  {
   "cell_type": "markdown",
   "metadata": {},
   "source": [
    "<评阅点>\n",
    "> + 是否将之前的决策树模型的部分进行合并组装， predicate函数能够顺利运行(8')\n",
    "+ 是够能够输入未曾见过的X变量，例如gender, income, family_number 分别是： <M, -10, 1>, 模型能够预测出结果 (12')"
   ]
  },
  {
   "cell_type": "markdown",
   "metadata": {},
   "source": [
    "2. 将上一节课(第二节课)的线性回归问题中的Loss函数改成\"绝对值\"，并且改变其偏导的求值方式，观察其结果的变化。(19 point)"
   ]
  },
  {
   "cell_type": "code",
   "execution_count": 24,
   "metadata": {},
   "outputs": [],
   "source": [
    "from sklearn.datasets import load_boston\n",
    "import random\n",
    "dataset = load_boston()\n",
    "x,y=dataset['data'],dataset['target']\n",
    "X_rm = x[:,5]"
   ]
  },
  {
   "cell_type": "code",
   "execution_count": 61,
   "metadata": {},
   "outputs": [
    {
     "name": "stdout",
     "output_type": "stream",
     "text": [
      "Iteration 0, the loss is 91.84952375462743, parameters k is 0.08845242156820632 and b is -69.87260856074886\n",
      "Iteration 1, the loss is 91.80902712524468, parameters k is 0.0947370559555581 and b is -69.87160856074885\n",
      "Iteration 2, the loss is 91.76853049586212, parameters k is 0.10102169034290989 and b is -69.87060856074885\n",
      "Iteration 3, the loss is 91.72803386647935, parameters k is 0.10730632473026168 and b is -69.86960856074884\n",
      "Iteration 4, the loss is 91.68753723709672, parameters k is 0.11359095911761347 and b is -69.86860856074884\n",
      "Iteration 5, the loss is 91.64704060771406, parameters k is 0.11987559350496525 and b is -69.86760856074883\n",
      "Iteration 6, the loss is 91.6065439783313, parameters k is 0.12616022789231704 and b is -69.86660856074883\n",
      "Iteration 7, the loss is 91.56604734894866, parameters k is 0.13244486227966884 and b is -69.86560856074883\n",
      "Iteration 8, the loss is 91.52555071956598, parameters k is 0.1387294966670206 and b is -69.86460856074882\n",
      "Iteration 9, the loss is 91.48505409018328, parameters k is 0.14501413105437239 and b is -69.86360856074882\n",
      "Iteration 10, the loss is 91.44455746080062, parameters k is 0.15129876544172416 and b is -69.86260856074881\n",
      "Iteration 11, the loss is 91.40406083141795, parameters k is 0.15758339982907593 and b is -69.8616085607488\n",
      "Iteration 12, the loss is 91.36356420203522, parameters k is 0.1638680342164277 and b is -69.8606085607488\n",
      "Iteration 13, the loss is 91.32306757265253, parameters k is 0.17015266860377948 and b is -69.8596085607488\n",
      "Iteration 14, the loss is 91.28257094326983, parameters k is 0.17643730299113125 and b is -69.85860856074879\n",
      "Iteration 15, the loss is 91.2420743138872, parameters k is 0.18272193737848302 and b is -69.85760856074879\n",
      "Iteration 16, the loss is 91.20157768450441, parameters k is 0.1890065717658348 and b is -69.85660856074878\n",
      "Iteration 17, the loss is 91.16108105512174, parameters k is 0.19529120615318657 and b is -69.85560856074878\n",
      "Iteration 18, the loss is 91.12058442573911, parameters k is 0.20157584054053834 and b is -69.85460856074877\n",
      "Iteration 19, the loss is 91.08008779635637, parameters k is 0.20786047492789012 and b is -69.85360856074877\n",
      "Iteration 20, the loss is 91.0395911669736, parameters k is 0.2141451093152419 and b is -69.85260856074876\n",
      "Iteration 21, the loss is 90.99909453759096, parameters k is 0.22042974370259366 and b is -69.85160856074876\n",
      "Iteration 22, the loss is 90.95859790820832, parameters k is 0.22671437808994543 and b is -69.85060856074875\n",
      "Iteration 23, the loss is 90.91810127882569, parameters k is 0.2329990124772972 and b is -69.84960856074875\n",
      "Iteration 24, the loss is 90.8776046494429, parameters k is 0.23928364686464898 and b is -69.84860856074874\n",
      "Iteration 25, the loss is 90.83710802006021, parameters k is 0.24556828125200075 and b is -69.84760856074874\n",
      "Iteration 26, the loss is 90.79661139067757, parameters k is 0.2518529156393525 and b is -69.84660856074873\n",
      "Iteration 27, the loss is 90.75611476129473, parameters k is 0.2581375500267043 and b is -69.84560856074873\n",
      "Iteration 28, the loss is 90.71561813191218, parameters k is 0.26442218441405607 and b is -69.84460856074872\n",
      "Iteration 29, the loss is 90.67512150252944, parameters k is 0.27070681880140784 and b is -69.84360856074872\n",
      "Iteration 30, the loss is 90.63462487314683, parameters k is 0.2769914531887596 and b is -69.84260856074872\n",
      "Iteration 31, the loss is 90.594128243764, parameters k is 0.2832760875761114 and b is -69.84160856074871\n",
      "Iteration 32, the loss is 90.55363161438135, parameters k is 0.28956072196346316 and b is -69.8406085607487\n",
      "Iteration 33, the loss is 90.51313498499866, parameters k is 0.29584535635081494 and b is -69.8396085607487\n",
      "Iteration 34, the loss is 90.4726383556159, parameters k is 0.3021299907381667 and b is -69.8386085607487\n",
      "Iteration 35, the loss is 90.43214172623325, parameters k is 0.3084146251255185 and b is -69.83760856074869\n",
      "Iteration 36, the loss is 90.39164509685062, parameters k is 0.31469925951287026 and b is -69.83660856074869\n",
      "Iteration 37, the loss is 90.35114846746792, parameters k is 0.32098389390022203 and b is -69.83560856074868\n",
      "Iteration 38, the loss is 90.31065183808518, parameters k is 0.3272685282875738 and b is -69.83460856074868\n",
      "Iteration 39, the loss is 90.27015520870259, parameters k is 0.3335531626749256 and b is -69.83360856074867\n",
      "Iteration 40, the loss is 90.22965857931987, parameters k is 0.33983779706227735 and b is -69.83260856074867\n",
      "Iteration 41, the loss is 90.18916194993724, parameters k is 0.3461224314496291 and b is -69.83160856074866\n",
      "Iteration 42, the loss is 90.14866532055461, parameters k is 0.3524070658369809 and b is -69.83060856074866\n",
      "Iteration 43, the loss is 90.10816869117184, parameters k is 0.35869170022433267 and b is -69.82960856074865\n",
      "Iteration 44, the loss is 90.06767206178905, parameters k is 0.36497633461168444 and b is -69.82860856074865\n",
      "Iteration 45, the loss is 90.02717543240645, parameters k is 0.3712609689990362 and b is -69.82760856074864\n",
      "Iteration 46, the loss is 89.98667880302385, parameters k is 0.377545603386388 and b is -69.82660856074864\n",
      "Iteration 47, the loss is 89.946182173641, parameters k is 0.38383023777373976 and b is -69.82560856074863\n",
      "Iteration 48, the loss is 89.9056855442583, parameters k is 0.39011487216109153 and b is -69.82460856074863\n",
      "Iteration 49, the loss is 89.86518891487566, parameters k is 0.3963995065484433 and b is -69.82360856074862\n",
      "Iteration 50, the loss is 89.82469228549297, parameters k is 0.4026841409357951 and b is -69.82260856074862\n",
      "Iteration 51, the loss is 89.7841956561103, parameters k is 0.40896877532314685 and b is -69.82160856074861\n",
      "Iteration 52, the loss is 89.74369902672761, parameters k is 0.4152534097104986 and b is -69.82060856074861\n",
      "Iteration 53, the loss is 89.70320239734495, parameters k is 0.4215380440978504 and b is -69.8196085607486\n",
      "Iteration 54, the loss is 89.66270576796227, parameters k is 0.42782267848520217 and b is -69.8186085607486\n",
      "Iteration 55, the loss is 89.62220913857955, parameters k is 0.43410731287255394 and b is -69.8176085607486\n",
      "Iteration 56, the loss is 89.58171250919699, parameters k is 0.4403919472599057 and b is -69.81660856074859\n",
      "Iteration 57, the loss is 89.54121587981416, parameters k is 0.4466765816472575 and b is -69.81560856074859\n",
      "Iteration 58, the loss is 89.50071925043143, parameters k is 0.45296121603460926 and b is -69.81460856074858\n",
      "Iteration 59, the loss is 89.46022262104874, parameters k is 0.45924585042196103 and b is -69.81360856074858\n",
      "Iteration 60, the loss is 89.41972599166621, parameters k is 0.4655304848093128 and b is -69.81260856074857\n",
      "Iteration 61, the loss is 89.37922936228347, parameters k is 0.4718151191966646 and b is -69.81160856074857\n",
      "Iteration 62, the loss is 89.33873273290062, parameters k is 0.47809975358401635 and b is -69.81060856074856\n",
      "Iteration 63, the loss is 89.298236103518, parameters k is 0.4843843879713681 and b is -69.80960856074856\n",
      "Iteration 64, the loss is 89.25773947413526, parameters k is 0.4906690223587199 and b is -69.80860856074855\n",
      "Iteration 65, the loss is 89.21724284475268, parameters k is 0.49695365674607167 and b is -69.80760856074855\n",
      "Iteration 66, the loss is 89.17674621537004, parameters k is 0.5032382911334234 and b is -69.80660856074854\n",
      "Iteration 67, the loss is 89.1362495859874, parameters k is 0.5095229255207753 and b is -69.80560856074854\n",
      "Iteration 68, the loss is 89.09575295660461, parameters k is 0.5158075599081271 and b is -69.80460856074853\n",
      "Iteration 69, the loss is 89.05525632722193, parameters k is 0.5220921942954789 and b is -69.80360856074853\n",
      "Iteration 70, the loss is 89.01475969783905, parameters k is 0.5283768286828308 and b is -69.80260856074852\n",
      "Iteration 71, the loss is 88.97426306845647, parameters k is 0.5346614630701826 and b is -69.80160856074852\n",
      "Iteration 72, the loss is 88.93376643907382, parameters k is 0.5409460974575344 and b is -69.80060856074851\n",
      "Iteration 73, the loss is 88.89326980969102, parameters k is 0.5472307318448862 and b is -69.79960856074851\n",
      "Iteration 74, the loss is 88.85277318030836, parameters k is 0.5535153662322381 and b is -69.7986085607485\n",
      "Iteration 75, the loss is 88.81227655092579, parameters k is 0.5598000006195899 and b is -69.7976085607485\n",
      "Iteration 76, the loss is 88.771779921543, parameters k is 0.5660846350069417 and b is -69.7966085607485\n",
      "Iteration 77, the loss is 88.73128329216033, parameters k is 0.5723692693942936 and b is -69.79560856074849\n",
      "Iteration 78, the loss is 88.69078666277764, parameters k is 0.5786539037816454 and b is -69.79460856074849\n",
      "Iteration 79, the loss is 88.65029003339504, parameters k is 0.5849385381689972 and b is -69.79360856074848\n",
      "Iteration 80, the loss is 88.60979340401235, parameters k is 0.591223172556349 and b is -69.79260856074848\n",
      "Iteration 81, the loss is 88.56929677462956, parameters k is 0.5975078069437009 and b is -69.79160856074847\n",
      "Iteration 82, the loss is 88.52880014524685, parameters k is 0.6037924413310527 and b is -69.79060856074847\n",
      "Iteration 83, the loss is 88.48830351586433, parameters k is 0.6100770757184045 and b is -69.78960856074846\n",
      "Iteration 84, the loss is 88.44780688648164, parameters k is 0.6163617101057564 and b is -69.78860856074846\n",
      "Iteration 85, the loss is 88.40731025709884, parameters k is 0.6226463444931082 and b is -69.78760856074845\n",
      "Iteration 86, the loss is 88.36681362771616, parameters k is 0.62893097888046 and b is -69.78660856074845\n",
      "Iteration 87, the loss is 88.3263169983335, parameters k is 0.6352156132678118 and b is -69.78560856074844\n",
      "Iteration 88, the loss is 88.28582036895088, parameters k is 0.6415002476551637 and b is -69.78460856074844\n",
      "Iteration 89, the loss is 88.2453237395681, parameters k is 0.6477848820425155 and b is -69.78360856074843\n",
      "Iteration 90, the loss is 88.2048271101854, parameters k is 0.6540695164298673 and b is -69.78260856074843\n",
      "Iteration 91, the loss is 88.1643304808026, parameters k is 0.6603541508172192 and b is -69.78160856074842\n",
      "Iteration 92, the loss is 88.12383385142002, parameters k is 0.666638785204571 and b is -69.78060856074842\n",
      "Iteration 93, the loss is 88.08333722203743, parameters k is 0.6729234195919228 and b is -69.77960856074841\n",
      "Iteration 94, the loss is 88.04284059265461, parameters k is 0.6792080539792746 and b is -69.77860856074841\n",
      "Iteration 95, the loss is 88.002343963272, parameters k is 0.6854926883666265 and b is -69.7776085607484\n",
      "Iteration 96, the loss is 87.96184733388918, parameters k is 0.6917773227539783 and b is -69.7766085607484\n",
      "Iteration 97, the loss is 87.92135070450661, parameters k is 0.6980619571413301 and b is -69.7756085607484\n",
      "Iteration 98, the loss is 87.88085407512379, parameters k is 0.704346591528682 and b is -69.77460856074839\n",
      "Iteration 99, the loss is 87.8403574457412, parameters k is 0.7106312259160338 and b is -69.77360856074839\n",
      "Iteration 100, the loss is 87.79986081635853, parameters k is 0.7169158603033856 and b is -69.77260856074838\n",
      "Iteration 101, the loss is 87.75936418697586, parameters k is 0.7232004946907374 and b is -69.77160856074838\n",
      "Iteration 102, the loss is 87.71886755759306, parameters k is 0.7294851290780893 and b is -69.77060856074837\n",
      "Iteration 103, the loss is 87.67837092821044, parameters k is 0.7357697634654411 and b is -69.76960856074837\n",
      "Iteration 104, the loss is 87.63787429882767, parameters k is 0.7420543978527929 and b is -69.76860856074836\n",
      "Iteration 105, the loss is 87.5973776694451, parameters k is 0.7483390322401448 and b is -69.76760856074836\n",
      "Iteration 106, the loss is 87.5568810400624, parameters k is 0.7546236666274966 and b is -69.76660856074835\n",
      "Iteration 107, the loss is 87.51638441067975, parameters k is 0.7609083010148484 and b is -69.76560856074835\n",
      "Iteration 108, the loss is 87.475887781297, parameters k is 0.7671929354022002 and b is -69.76460856074834\n",
      "Iteration 109, the loss is 87.43539115191425, parameters k is 0.7734775697895521 and b is -69.76360856074834\n",
      "Iteration 110, the loss is 87.39489452253173, parameters k is 0.7797622041769039 and b is -69.76260856074833\n",
      "Iteration 111, the loss is 87.35439789314893, parameters k is 0.7860468385642557 and b is -69.76160856074833\n",
      "Iteration 112, the loss is 87.31390126376621, parameters k is 0.7923314729516076 and b is -69.76060856074832\n",
      "Iteration 113, the loss is 87.27340463438361, parameters k is 0.7986161073389594 and b is -69.75960856074832\n",
      "Iteration 114, the loss is 87.23290800500092, parameters k is 0.8049007417263112 and b is -69.75860856074831\n",
      "Iteration 115, the loss is 87.19241137561816, parameters k is 0.811185376113663 and b is -69.75760856074831\n",
      "Iteration 116, the loss is 87.15191474623548, parameters k is 0.8174700105010149 and b is -69.7566085607483\n",
      "Iteration 117, the loss is 87.11141811685279, parameters k is 0.8237546448883667 and b is -69.7556085607483\n",
      "Iteration 118, the loss is 87.07092148747003, parameters k is 0.8300392792757185 and b is -69.7546085607483\n",
      "Iteration 119, the loss is 87.03042485808729, parameters k is 0.8363239136630704 and b is -69.75360856074829\n",
      "Iteration 120, the loss is 86.98992822870467, parameters k is 0.8426085480504222 and b is -69.75260856074829\n",
      "Iteration 121, the loss is 86.94943159932207, parameters k is 0.848893182437774 and b is -69.75160856074828\n",
      "Iteration 122, the loss is 86.90893496993937, parameters k is 0.8551778168251258 and b is -69.75060856074828\n",
      "Iteration 123, the loss is 86.86843834055658, parameters k is 0.8614624512124777 and b is -69.74960856074827\n",
      "Iteration 124, the loss is 86.82794171117402, parameters k is 0.8677470855998295 and b is -69.74860856074827\n",
      "Iteration 125, the loss is 86.78744508179132, parameters k is 0.8740317199871813 and b is -69.74760856074826\n",
      "Iteration 126, the loss is 86.74694845240857, parameters k is 0.8803163543745331 and b is -69.74660856074826\n",
      "Iteration 127, the loss is 86.7064518230258, parameters k is 0.886600988761885 and b is -69.74560856074825\n",
      "Iteration 128, the loss is 86.66595519364321, parameters k is 0.8928856231492368 and b is -69.74460856074825\n",
      "Iteration 129, the loss is 86.62545856426051, parameters k is 0.8991702575365886 and b is -69.74360856074824\n",
      "Iteration 130, the loss is 86.58496193487775, parameters k is 0.9054548919239405 and b is -69.74260856074824\n"
     ]
    },
    {
     "name": "stdout",
     "output_type": "stream",
     "text": [
      "Iteration 131, the loss is 86.54446530549512, parameters k is 0.9117395263112923 and b is -69.74160856074823\n",
      "Iteration 132, the loss is 86.50396867611222, parameters k is 0.9180241606986441 and b is -69.74060856074823\n",
      "Iteration 133, the loss is 86.4634720467298, parameters k is 0.924308795085996 and b is -69.73960856074822\n",
      "Iteration 134, the loss is 86.42297541734706, parameters k is 0.9305934294733478 and b is -69.73860856074822\n",
      "Iteration 135, the loss is 86.38247878796435, parameters k is 0.9368780638606996 and b is -69.73760856074821\n",
      "Iteration 136, the loss is 86.34198215858167, parameters k is 0.9431626982480514 and b is -69.73660856074821\n",
      "Iteration 137, the loss is 86.30148552919898, parameters k is 0.9494473326354033 and b is -69.7356085607482\n",
      "Iteration 138, the loss is 86.26098889981634, parameters k is 0.9557319670227551 and b is -69.7346085607482\n",
      "Iteration 139, the loss is 86.22049227043364, parameters k is 0.9620166014101069 and b is -69.7336085607482\n",
      "Iteration 140, the loss is 86.17999564105095, parameters k is 0.9683012357974587 and b is -69.73260856074819\n",
      "Iteration 141, the loss is 86.13949901166824, parameters k is 0.9745858701848106 and b is -69.73160856074819\n",
      "Iteration 142, the loss is 86.09900238228552, parameters k is 0.9808705045721624 and b is -69.73060856074818\n",
      "Iteration 143, the loss is 86.05850575290295, parameters k is 0.9871551389595142 and b is -69.72960856074818\n",
      "Iteration 144, the loss is 86.0180091235201, parameters k is 0.9934397733468661 and b is -69.72860856074817\n",
      "Iteration 145, the loss is 85.97751249413744, parameters k is 0.9997244077342179 and b is -69.72760856074817\n",
      "Iteration 146, the loss is 85.93701586475468, parameters k is 1.0060090421215697 and b is -69.72660856074816\n",
      "Iteration 147, the loss is 85.89651923537208, parameters k is 1.0122936765089214 and b is -69.72560856074816\n",
      "Iteration 148, the loss is 85.85602260598948, parameters k is 1.0185783108962732 and b is -69.72460856074815\n",
      "Iteration 149, the loss is 85.81552597660672, parameters k is 1.0248629452836249 and b is -69.72360856074815\n",
      "Iteration 150, the loss is 85.77502934722406, parameters k is 1.0311475796709766 and b is -69.72260856074814\n",
      "Iteration 151, the loss is 85.73453271784126, parameters k is 1.0374322140583283 and b is -69.72160856074814\n",
      "Iteration 152, the loss is 85.6940360884587, parameters k is 1.04371684844568 and b is -69.72060856074813\n",
      "Iteration 153, the loss is 85.65353945907587, parameters k is 1.0500014828330317 and b is -69.71960856074813\n",
      "Iteration 154, the loss is 85.61304282969321, parameters k is 1.0562861172203835 and b is -69.71860856074812\n",
      "Iteration 155, the loss is 85.57254620031057, parameters k is 1.0625707516077352 and b is -69.71760856074812\n",
      "Iteration 156, the loss is 85.53204957092791, parameters k is 1.068855385995087 and b is -69.71660856074811\n",
      "Iteration 157, the loss is 85.49155294154531, parameters k is 1.0751400203824386 and b is -69.71560856074811\n",
      "Iteration 158, the loss is 85.45105631216255, parameters k is 1.0814246547697903 and b is -69.7146085607481\n",
      "Iteration 159, the loss is 85.41055968277972, parameters k is 1.087709289157142 and b is -69.7136085607481\n",
      "Iteration 160, the loss is 85.37006305339719, parameters k is 1.0939939235444938 and b is -69.7126085607481\n",
      "Iteration 161, the loss is 85.32956642401449, parameters k is 1.1002785579318455 and b is -69.71160856074809\n",
      "Iteration 162, the loss is 85.28906979463166, parameters k is 1.1065631923191972 and b is -69.71060856074808\n",
      "Iteration 163, the loss is 85.24857316524907, parameters k is 1.112847826706549 and b is -69.70960856074808\n",
      "Iteration 164, the loss is 85.20807653586635, parameters k is 1.1191324610939006 and b is -69.70860856074808\n",
      "Iteration 165, the loss is 85.16757990648368, parameters k is 1.1254170954812523 and b is -69.70760856074807\n",
      "Iteration 166, the loss is 85.12708327710102, parameters k is 1.131701729868604 and b is -69.70660856074807\n",
      "Iteration 167, the loss is 85.08658664771836, parameters k is 1.1379863642559558 and b is -69.70560856074806\n",
      "Iteration 168, the loss is 85.04609001833563, parameters k is 1.1442709986433075 and b is -69.70460856074806\n",
      "Iteration 169, the loss is 85.00559338895283, parameters k is 1.1505556330306592 and b is -69.70360856074805\n",
      "Iteration 170, the loss is 84.96509675957023, parameters k is 1.156840267418011 and b is -69.70260856074805\n",
      "Iteration 171, the loss is 84.92460013018766, parameters k is 1.1631249018053627 and b is -69.70160856074804\n",
      "Iteration 172, the loss is 84.88410350080495, parameters k is 1.1694095361927144 and b is -69.70060856074804\n",
      "Iteration 173, the loss is 84.84360687142218, parameters k is 1.175694170580066 and b is -69.69960856074803\n",
      "Iteration 174, the loss is 84.80311024203958, parameters k is 1.1819788049674178 and b is -69.69860856074803\n",
      "Iteration 175, the loss is 84.7626136126567, parameters k is 1.1882634393547695 and b is -69.69760856074802\n",
      "Iteration 176, the loss is 84.72211698327403, parameters k is 1.1945480737421212 and b is -69.69660856074802\n",
      "Iteration 177, the loss is 84.6816203538914, parameters k is 1.200832708129473 and b is -69.69560856074801\n",
      "Iteration 178, the loss is 84.64112372450879, parameters k is 1.2071173425168247 and b is -69.69460856074801\n",
      "Iteration 179, the loss is 84.60062709512603, parameters k is 1.2134019769041764 and b is -69.693608560748\n",
      "Iteration 180, the loss is 84.56013046574336, parameters k is 1.2196866112915281 and b is -69.692608560748\n",
      "Iteration 181, the loss is 84.51963383636065, parameters k is 1.2259712456788798 and b is -69.691608560748\n",
      "Iteration 182, the loss is 84.47913720697801, parameters k is 1.2322558800662315 and b is -69.69060856074799\n",
      "Iteration 183, the loss is 84.43864057759532, parameters k is 1.2385405144535833 and b is -69.68960856074798\n",
      "Iteration 184, the loss is 84.39814394821262, parameters k is 1.244825148840935 and b is -69.68860856074798\n",
      "Iteration 185, the loss is 84.35764731882995, parameters k is 1.2511097832282867 and b is -69.68760856074798\n",
      "Iteration 186, the loss is 84.3171506894473, parameters k is 1.2573944176156384 and b is -69.68660856074797\n",
      "Iteration 187, the loss is 84.27665406006454, parameters k is 1.2636790520029901 and b is -69.68560856074797\n",
      "Iteration 188, the loss is 84.23615743068184, parameters k is 1.2699636863903419 and b is -69.68460856074796\n",
      "Iteration 189, the loss is 84.19566080129906, parameters k is 1.2762483207776936 and b is -69.68360856074796\n",
      "Iteration 190, the loss is 84.15516417191647, parameters k is 1.2825329551650453 and b is -69.68260856074795\n",
      "Iteration 191, the loss is 84.11466754253377, parameters k is 1.288817589552397 and b is -69.68160856074795\n",
      "Iteration 192, the loss is 84.07417091315108, parameters k is 1.2951022239397487 and b is -69.68060856074794\n",
      "Iteration 193, the loss is 84.03367428376848, parameters k is 1.3013868583271004 and b is -69.67960856074794\n",
      "Iteration 194, the loss is 83.99317765438575, parameters k is 1.3076714927144522 and b is -69.67860856074793\n",
      "Iteration 195, the loss is 83.952681025003, parameters k is 1.3139561271018039 and b is -69.67760856074793\n",
      "Iteration 196, the loss is 83.91218439562034, parameters k is 1.3202407614891556 and b is -69.67660856074792\n",
      "Iteration 197, the loss is 83.87168776623771, parameters k is 1.3265253958765073 and b is -69.67560856074792\n",
      "Iteration 198, the loss is 83.83119113685487, parameters k is 1.332810030263859 and b is -69.67460856074791\n",
      "Iteration 199, the loss is 83.79069450747234, parameters k is 1.3390946646512107 and b is -69.67360856074791\n"
     ]
    }
   ],
   "source": [
    "#define target function\n",
    "def price(rm, k, b):\n",
    "    return k * rm + b\n",
    "# define loss function \n",
    "def loss(y,y_hat):\n",
    "    return sum(abs(y_i - y_hat_i) for y_i, y_hat_i in zip(list(y),list(y_hat)))/len(list(y))\n",
    "# define partial derivative : k & b\n",
    "def partial_derivative_k(x, y, y_hat): \n",
    "    n = len(y)\n",
    "    gradient = 0\n",
    "    for x_i, y_i, y_hat_i in zip(list(x),list(y),list(y_hat)):\n",
    "        if y_i > y_hat_i:\n",
    "            gradient +=  -x_i\n",
    "        elif y_i < y_hat_i:\n",
    "            gradient +=  x_i\n",
    "    return 1/n * gradient\n",
    "\n",
    "def partial_derivative_b(y, y_hat):\n",
    "    n = len(y)\n",
    "    gradient = 0\n",
    "    for y_i, y_hat_i in zip(list(y),list(y_hat)):\n",
    "        if y_i > y_hat_i:\n",
    "            gradient += -1\n",
    "        elif y_i < y_hat_i:\n",
    "            gradient += 1\n",
    "    return 1 / n * gradient\n",
    "#initialized parameters\n",
    "\n",
    "k = random.random() * 200 - 100  # -100 100\n",
    "b = random.random() * 200 - 100  # -100 100\n",
    "\n",
    "learning_rate = 1e-3\n",
    "\n",
    "iteration_num = 200 \n",
    "losses = []\n",
    "for i in range(iteration_num):\n",
    "    \n",
    "    price_use_current_parameters = [price(r, k, b) for r in X_rm]  # \\hat{y}\n",
    "    \n",
    "    current_loss = loss(y, price_use_current_parameters)\n",
    "    losses.append(current_loss)\n",
    "    print(\"Iteration {}, the loss is {}, parameters k is {} and b is {}\".format(i,current_loss,k,b))\n",
    "    \n",
    "    k_gradient = partial_derivative_k(X_rm, y, price_use_current_parameters)\n",
    "    b_gradient = partial_derivative_b(y, price_use_current_parameters)\n",
    "    \n",
    "    k = k + (-1 * k_gradient) * learning_rate\n",
    "    b = b + (-1 * b_gradient) * learning_rate\n",
    "best_k = k\n",
    "best_b = b\n"
   ]
  },
  {
   "cell_type": "code",
   "execution_count": 62,
   "metadata": {},
   "outputs": [
    {
     "data": {
      "text/plain": [
       "[<matplotlib.lines.Line2D at 0xd621508>]"
      ]
     },
     "execution_count": 62,
     "metadata": {},
     "output_type": "execute_result"
    },
    {
     "data": {
      "image/png": "[encoded data removed]",
      "text/plain": [
       "<Figure size 432x288 with 1 Axes>"
      ]
     },
     "metadata": {
      "needs_background": "light"
     },
     "output_type": "display_data"
    }
   ],
   "source": [
    "plt.plot(list(range(iteration_num)),losses)"
   ]
  },
  {
   "cell_type": "code",
   "execution_count": 63,
   "metadata": {},
   "outputs": [
    {
     "data": {
      "text/plain": [
       "<matplotlib.collections.PathCollection at 0xd69b608>"
      ]
     },
     "execution_count": 63,
     "metadata": {},
     "output_type": "execute_result"
    },
    {
     "data": {
      "image/png": "[encoded data removed]",
      "text/plain": [
       "<Figure size 432x288 with 1 Axes>"
      ]
     },
     "metadata": {
      "needs_background": "light"
     },
     "output_type": "display_data"
    }
   ],
   "source": [
    "price_use_best_parameters = [price(r, best_k, best_b) for r in X_rm]\n",
    "\n",
    "plt.scatter(X_rm,y)\n",
    "plt.scatter(X_rm,price_use_current_parameters)"
   ]
  },
  {
   "cell_type": "markdown",
   "metadata": {},
   "source": [
    "<评阅点>\n",
    "+ 是否将Loss改成了“绝对值”(3')\n",
    "+ 是否完成了偏导的重新定义(5')\n",
    "+ 新的模型Loss是否能够收敛 (11’)"
   ]
  },
  {
   "cell_type": "markdown",
   "metadata": {},
   "source": []
  }
 ],
 "metadata": {
  "kernelspec": {
   "display_name": "Python 3",
   "language": "python",
   "name": "python3"
  },
  "language_info": {
   "codemirror_mode": {
    "name": "ipython",
    "version": 3
   },
   "file_extension": ".py",
   "mimetype": "text/x-python",
   "name": "python",
   "nbconvert_exporter": "python",
   "pygments_lexer": "ipython3",
   "version": "3.7.4"
  }
 },
 "nbformat": 4,
 "nbformat_minor": 2
}
